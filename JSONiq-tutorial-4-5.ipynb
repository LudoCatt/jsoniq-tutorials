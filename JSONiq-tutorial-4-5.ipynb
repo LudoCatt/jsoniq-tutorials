{
 "cells": [
  {
   "cell_type": "markdown",
   "id": "80b4ef60",
   "metadata": {},
   "source": [
    "# Big Data HS 2023\n",
    "\n",
    "## JSONiq tutorial - weeks 4 and 5"
   ]
  },
  {
   "cell_type": "markdown",
   "id": "0d21726b",
   "metadata": {},
   "source": [
    "This is the JSONiq tutorial for weeks 4 and 5.\n",
    "\n",
    "Do not forget to use localhost:8888 as the URL to make sure the notebook is accessed via docker! And if it does not work, you should delete all containers, images, and volumes, then try again with\n",
    "\n"
   ]
  },
  {
   "cell_type": "markdown",
   "id": "469ccebf",
   "metadata": {},
   "source": [
    "````\n",
    "docker-compose up\n",
    "````"
   ]
  },
  {
   "cell_type": "markdown",
   "id": "7fa4dd13",
   "metadata": {},
   "source": [
    "Like last week, junst run the cell below to connect the Jupyter notebook with RumbleDB."
   ]
  },
  {
   "cell_type": "code",
   "execution_count": null,
   "id": "49147176",
   "metadata": {},
   "outputs": [],
   "source": [
    "%load_ext rumbledb\n",
    "%env RUMBLEDB_SERVER=http://rumble:9090/jsoniq"
   ]
  },
  {
   "cell_type": "markdown",
   "id": "e8fe589f",
   "metadata": {},
   "source": [
    "## Arrays and Objects\n",
    "Any well-formed JSON document is a JSONiq expression as well. This means that you can copy-and-paste any JSON document into a query, including arrays and objects. "
   ]
  },
  {
   "cell_type": "code",
   "execution_count": null,
   "id": "82a4c51b",
   "metadata": {},
   "outputs": [],
   "source": [
    "%%jsoniq\n",
    "[ 2, 3, 5, 7, 11, 13 ]"
   ]
  },
  {
   "cell_type": "code",
   "execution_count": null,
   "id": "7d4694b3",
   "metadata": {},
   "outputs": [],
   "source": [
    "%%jsoniq\n",
    "{ \"pi\" : 3.14, \"sq2\" : 1.4 }"
   ]
  },
  {
   "cell_type": "markdown",
   "id": "4efb8cce",
   "metadata": {},
   "source": [
    "Just like in a JSON document, you can arbitrarily nest arrays and objects."
   ]
  },
  {
   "cell_type": "code",
   "execution_count": null,
   "id": "e8143097",
   "metadata": {
    "scrolled": true
   },
   "outputs": [],
   "source": [
    "%%jsoniq\n",
    "{\n",
    "      \"operations\" : [\n",
    "        { \"binary\" : [ \"and\", \"or\"] },\n",
    "        { \"unary\" : [\"not\"] }\n",
    "      ],\n",
    "      \"bits\" : [\n",
    "        0, 1\n",
    "      ]\n",
    "    }"
   ]
  },
  {
   "cell_type": "code",
   "execution_count": null,
   "id": "fd655fed",
   "metadata": {
    "scrolled": true
   },
   "outputs": [],
   "source": [
    "%%jsoniq\n",
    "[ { \"Question\" : \"Ultimate\" }, [\"Life\", \"the universe\", \"and everything\"] ]"
   ]
  },
  {
   "cell_type": "markdown",
   "id": "ef79c4bf",
   "metadata": {},
   "source": [
    "The above queries are \"idempotent\" (they just output themselves). This works with objects, arrays (even nested), strings, numbers, booleans, null.\n",
    "\n",
    "It also works the other way round: if your query outputs an object, you can use it as a JSON document.\n",
    "JSONiq is a declarative language. This means that you only need to say what you want - the compiler will take care of the how. \n",
    "\n",
    "In the above queries, you are basically saying: I want to output this JSON content, and here it is."
   ]
  },
  {
   "cell_type": "markdown",
   "id": "be5bf164",
   "metadata": {},
   "source": [
    "In fact JSONiq makes JSON \"dynamic\": try to replace numbers with arithmetic formulas, keys with concatenations of strings, etc and see how the resulting JSON object is automatically created."
   ]
  },
  {
   "cell_type": "code",
   "execution_count": null,
   "id": "aa53ef19",
   "metadata": {},
   "outputs": [],
   "source": [
    "%%jsoniq\n",
    "[{\n",
    "    \"foo\" : 2 + 2,\n",
    "    \"bar\" : if(2 gt 1) then true else false\n",
    "}, 5 * 7]"
   ]
  },
  {
   "cell_type": "markdown",
   "id": "0f521284",
   "metadata": {},
   "source": [
    "You can also use the `to` operator to generate an array."
   ]
  },
  {
   "cell_type": "code",
   "execution_count": null,
   "id": "ef7772da",
   "metadata": {},
   "outputs": [],
   "source": [
    "%%jsoniq\n",
    "[1 to 5]"
   ]
  },
  {
   "cell_type": "markdown",
   "id": "c799ef7a",
   "metadata": {
    "cell_status": {
     "execute_time": {
      "duration": 17337.39599609375,
      "end_time": 1557230774662.657
     }
    }
   },
   "source": [
    "\n",
    "## Sequences\n",
    "\n",
    "Until now, we have only been working with single values (an object, an array, a number, a string, a boolean). JSONiq supports sequences of values. You can build a sequence using commas:\n"
   ]
  },
  {
   "cell_type": "code",
   "execution_count": null,
   "id": "90e2f365",
   "metadata": {
    "scrolled": true
   },
   "outputs": [],
   "source": [
    "%%jsoniq\n",
    " (1, 2, 3, 4, 5, 6, 7, 8, 9, 10)"
   ]
  },
  {
   "cell_type": "markdown",
   "id": "1047ae31",
   "metadata": {},
   "source": [
    "Sequences can be heterogeneous."
   ]
  },
  {
   "cell_type": "code",
   "execution_count": null,
   "id": "0c6473ac",
   "metadata": {},
   "outputs": [],
   "source": [
    "%%jsoniq\n",
    "1, true, 4.2e1, \"Life\", [1,2], {\"foo\": \"bar\"}"
   ]
  },
  {
   "cell_type": "markdown",
   "id": "4ff4bb16",
   "metadata": {},
   "source": [
    "You can also use the `to` operator to generate a sequence."
   ]
  },
  {
   "cell_type": "code",
   "execution_count": null,
   "id": "d12559c7",
   "metadata": {},
   "outputs": [],
   "source": [
    " %%jsoniq\n",
    "1 to 5"
   ]
  },
  {
   "cell_type": "markdown",
   "id": "a54e548f",
   "metadata": {},
   "source": [
    "Unlike arrays and objects, sequences are flat, which means sequences cannot be nested. The following cells are the same."
   ]
  },
  {
   "cell_type": "code",
   "execution_count": null,
   "id": "08a1d77a",
   "metadata": {},
   "outputs": [],
   "source": [
    "%%jsoniq\n",
    " (1, 2), ((3)), ((4, (5)), 6, 7, 8, 9), 10"
   ]
  },
  {
   "cell_type": "code",
   "execution_count": null,
   "id": "d9071fe6",
   "metadata": {},
   "outputs": [],
   "source": [
    "%%jsoniq\n",
    " (1, 2, 3, 4, 5, 6, 7, 8, 9, 10)"
   ]
  },
  {
   "cell_type": "code",
   "execution_count": null,
   "id": "519ef542",
   "metadata": {},
   "outputs": [],
   "source": [
    " %%jsoniq\n",
    "1, 2, 3, 4, 5, 6, 7, 8, 9, 10"
   ]
  },
  {
   "cell_type": "code",
   "execution_count": null,
   "id": "19b6d135",
   "metadata": {},
   "outputs": [],
   "source": [
    " %%jsoniq\n",
    "1 to 10"
   ]
  },
  {
   "cell_type": "markdown",
   "id": "ca8a3738",
   "metadata": {
    "cell_status": {
     "execute_time": {
      "duration": 17337.39599609375,
      "end_time": 1557230774662.657
     }
    }
   },
   "source": [
    "\n",
    "## Lookup and Unboxing\n",
    "\n",
    "You can lookup a specific position of an array with the `[[]]` array lookup syntax. Note that JSONiq uses the 1-based indexing."
   ]
  },
  {
   "cell_type": "code",
   "execution_count": null,
   "id": "72deb686",
   "metadata": {},
   "outputs": [],
   "source": [
    " %%jsoniq\n",
    "[1, 5, 9][[2]]"
   ]
  },
  {
   "cell_type": "markdown",
   "id": "79806cc6",
   "metadata": {},
   "source": [
    "Similarly, you can lookup a specific position of a sequence with the `[]` sequence lookup syntax."
   ]
  },
  {
   "cell_type": "code",
   "execution_count": null,
   "id": "2db9ee77",
   "metadata": {},
   "outputs": [],
   "source": [
    " %%jsoniq\n",
    "(1, 5, 9)[2]"
   ]
  },
  {
   "cell_type": "markdown",
   "id": "35a05261",
   "metadata": {},
   "source": [
    "Moreover, you can filter values in a sequence satisfying certain conditions. The result of the predicate is converted to a boolean. $$ is used to denote the current item being tested by the predicate."
   ]
  },
  {
   "cell_type": "code",
   "execution_count": null,
   "id": "0caf1fc4",
   "metadata": {},
   "outputs": [],
   "source": [
    " %%jsoniq\n",
    "(1 to 10)[$$ mod 2 = 0]"
   ]
  },
  {
   "cell_type": "markdown",
   "id": "8e147fe7",
   "metadata": {},
   "source": [
    "You can expand an array to a sequence using the `[]` array unboxing syntax."
   ]
  },
  {
   "cell_type": "code",
   "execution_count": null,
   "id": "c3998c0a",
   "metadata": {},
   "outputs": [],
   "source": [
    "%%jsoniq\n",
    "[1, 2, 3][]"
   ]
  },
  {
   "cell_type": "markdown",
   "id": "7921c5a8",
   "metadata": {},
   "source": [
    "You can also lookup a key-value pair in an object with the `.` object lookup syntax."
   ]
  },
  {
   "cell_type": "code",
   "execution_count": null,
   "id": "696b86fa",
   "metadata": {},
   "outputs": [],
   "source": [
    "%%jsoniq\n",
    "let $x := { \"pi\" : 3.14, \"sq2\" : 1.4 }\n",
    "return $x.sq2"
   ]
  },
  {
   "cell_type": "markdown",
   "id": "07ea7cba",
   "metadata": {},
   "source": [
    "If you apply the dot object-lookup syntax to a sequence of objects, you get a sequence of corresponding values. In fact, the same apply to array lookup and array unboxing, which work on sequences of arrays as well."
   ]
  },
  {
   "cell_type": "code",
   "execution_count": null,
   "id": "db30e74d",
   "metadata": {},
   "outputs": [],
   "source": [
    "%%jsoniq\n",
    "let $x := (\n",
    "     { \"foo\" : 1 },\n",
    "     { \"foo\" : 2 },\n",
    "     { \"foo\" : 1 },\n",
    "     { \"bar\" : 1 }\n",
    "    )\n",
    "return $x.foo"
   ]
  },
  {
   "cell_type": "markdown",
   "id": "be5e7e4d",
   "metadata": {},
   "source": [
    "You can chain lookups, unboxing, and boxing arbitrarily."
   ]
  },
  {
   "cell_type": "code",
   "execution_count": null,
   "id": "72fc2dbb",
   "metadata": {},
   "outputs": [],
   "source": [
    "%%jsoniq\n",
    "let $x := \n",
    "{\n",
    "      \"operations\" : [\n",
    "        { \"binary\" : [ \"and\", \"or\"] },\n",
    "        { \"unary\" : [\"not\"] }\n",
    "      ],\n",
    "      \"bits\" : [\n",
    "        0, 1\n",
    "      ]\n",
    "    }\n",
    "return [$x.operations[].binary[[2]]]"
   ]
  },
  {
   "cell_type": "markdown",
   "id": "1cd650dd",
   "metadata": {},
   "source": [
    "# Try your own queries!\n",
    "\n",
    "This notebook is interactive. You can edit all queries above and also execute your own! We will show you more features every week."
   ]
  },
  {
   "cell_type": "code",
   "execution_count": null,
   "id": "fa53f4cf",
   "metadata": {},
   "outputs": [],
   "source": [
    "%%jsoniq\n",
    "[ 1 + 1 ]"
   ]
  },
  {
   "cell_type": "code",
   "execution_count": null,
   "id": "c781a830",
   "metadata": {},
   "outputs": [],
   "source": [
    "%%jsoniq\n",
    "{ \"foo\": 1 }"
   ]
  },
  {
   "cell_type": "code",
   "execution_count": null,
   "id": "067e0db1",
   "metadata": {},
   "outputs": [],
   "source": [
    "%%jsoniq\n",
    "1, 2, 3"
   ]
  },
  {
   "cell_type": "code",
   "execution_count": null,
   "id": "1ddcd5e7",
   "metadata": {},
   "outputs": [],
   "source": [
    "%%jsoniq\n",
    "1+1"
   ]
  },
  {
   "cell_type": "code",
   "execution_count": null,
   "id": "e5b0ab65",
   "metadata": {},
   "outputs": [],
   "source": [
    "%%jsoniq\n",
    "1+1"
   ]
  },
  {
   "cell_type": "code",
   "execution_count": null,
   "id": "987f06d0",
   "metadata": {},
   "outputs": [],
   "source": [
    "%%jsoniq\n",
    "1+1"
   ]
  },
  {
   "cell_type": "code",
   "execution_count": null,
   "id": "7831547c",
   "metadata": {},
   "outputs": [],
   "source": [
    "%%jsoniq\n"
   ]
  },
  {
   "cell_type": "code",
   "execution_count": null,
   "id": "ac36ecd5",
   "metadata": {},
   "outputs": [],
   "source": [
    "%%jsoniq\n"
   ]
  },
  {
   "cell_type": "code",
   "execution_count": null,
   "id": "bdb50a93",
   "metadata": {},
   "outputs": [],
   "source": [
    "%%jsoniq\n"
   ]
  }
 ],
 "metadata": {
  "kernelspec": {
   "display_name": "Python 3 (ipykernel)",
   "language": "python",
   "name": "python3"
  },
  "language_info": {
   "codemirror_mode": {
    "name": "ipython",
    "version": 3
   },
   "file_extension": ".py",
   "mimetype": "text/x-python",
   "name": "python",
   "nbconvert_exporter": "python",
   "pygments_lexer": "ipython3",
   "version": "3.7.3"
  }
 },
 "nbformat": 4,
 "nbformat_minor": 5
}
