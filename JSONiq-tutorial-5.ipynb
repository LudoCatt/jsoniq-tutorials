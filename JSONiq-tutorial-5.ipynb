{
 "cells": [
  {
   "cell_type": "markdown",
   "id": "80b4ef60",
   "metadata": {},
   "source": [
    "# Big Data HS 2023\n",
    "\n",
    "## JSONiq tutorial - week5"
   ]
  },
  {
   "cell_type": "markdown",
   "id": "0d21726b",
   "metadata": {},
   "source": [
    "This is the JSONiq tutorial for week 5.\n",
    "\n",
    "Do not forget to use localhost:8888 as the URL to make sure the notebook is accessed via docker! And if it does not work, you should delete all containers, images, and volumes, then try again with\n",
    "\n"
   ]
  },
  {
   "cell_type": "markdown",
   "id": "469ccebf",
   "metadata": {},
   "source": [
    "````\n",
    "docker-compose up\n",
    "````"
   ]
  },
  {
   "cell_type": "markdown",
   "id": "7fa4dd13",
   "metadata": {},
   "source": [
    "Like last week, junst run the cell below to connect the Jupyter notebook with RumbleDB."
   ]
  },
  {
   "cell_type": "code",
   "execution_count": 1,
   "id": "49147176",
   "metadata": {},
   "outputs": [
    {
     "name": "stdout",
     "output_type": "stream",
     "text": [
      "env: RUMBLEDB_SERVER=http://rumble:9090/jsoniq\n"
     ]
    }
   ],
   "source": [
    "%load_ext rumbledb\n",
    "%env RUMBLEDB_SERVER=http://rumble:9090/jsoniq"
   ]
  },
  {
   "cell_type": "markdown",
   "id": "ca8a3738",
   "metadata": {
    "cell_status": {
     "execute_time": {
      "duration": 17337.39599609375,
      "end_time": 1557230774662.657
     }
    }
   },
   "source": [
    "\n",
    "## Lookup and Unboxing\n",
    "\n",
    "You can lookup a specific position of an array with the `[[]]` array lookup syntax. Note that JSONiq uses the 1-based indexing."
   ]
  },
  {
   "cell_type": "code",
   "execution_count": 2,
   "id": "72deb686",
   "metadata": {},
   "outputs": [
    {
     "name": "stdout",
     "output_type": "stream",
     "text": [
      "Took: 0.040982723236083984 ms\n",
      "5\n"
     ]
    }
   ],
   "source": [
    " %%jsoniq\n",
    "[1, 5, 9][[2]]"
   ]
  },
  {
   "cell_type": "markdown",
   "id": "79806cc6",
   "metadata": {},
   "source": [
    "Similarly, you can lookup a specific position of a sequence with the `[]` sequence lookup syntax."
   ]
  },
  {
   "cell_type": "code",
   "execution_count": 3,
   "id": "2db9ee77",
   "metadata": {},
   "outputs": [
    {
     "name": "stdout",
     "output_type": "stream",
     "text": [
      "Took: 0.014709711074829102 ms\n",
      "5\n"
     ]
    }
   ],
   "source": [
    " %%jsoniq\n",
    "(1, 5, 9)[2]"
   ]
  },
  {
   "cell_type": "markdown",
   "id": "35a05261",
   "metadata": {},
   "source": [
    "Moreover, you can filter values in a sequence satisfying certain conditions. The result of the predicate is converted to a boolean. $$ is used to denote the current item being tested by the predicate."
   ]
  },
  {
   "cell_type": "code",
   "execution_count": 4,
   "id": "0caf1fc4",
   "metadata": {},
   "outputs": [
    {
     "name": "stdout",
     "output_type": "stream",
     "text": [
      "Took: 0.01819157600402832 ms\n",
      "2\n",
      "4\n",
      "6\n",
      "8\n",
      "10\n"
     ]
    }
   ],
   "source": [
    " %%jsoniq\n",
    "(1 to 10)[$$ mod 2 = 0]"
   ]
  },
  {
   "cell_type": "markdown",
   "id": "8e147fe7",
   "metadata": {},
   "source": [
    "You can expand an array to a sequence using the `[]` array unboxing syntax."
   ]
  },
  {
   "cell_type": "code",
   "execution_count": 5,
   "id": "c3998c0a",
   "metadata": {},
   "outputs": [
    {
     "name": "stdout",
     "output_type": "stream",
     "text": [
      "Took: 0.016222715377807617 ms\n",
      "1\n",
      "2\n",
      "3\n"
     ]
    }
   ],
   "source": [
    "%%jsoniq\n",
    "[1, 2, 3][]"
   ]
  },
  {
   "cell_type": "markdown",
   "id": "7921c5a8",
   "metadata": {},
   "source": [
    "You can also lookup a key-value pair in an object with the `.` object lookup syntax."
   ]
  },
  {
   "cell_type": "code",
   "execution_count": 6,
   "id": "696b86fa",
   "metadata": {},
   "outputs": [
    {
     "name": "stdout",
     "output_type": "stream",
     "text": [
      "Took: 0.025644540786743164 ms\n",
      "1.4\n"
     ]
    }
   ],
   "source": [
    "%%jsoniq\n",
    "let $x := { \"pi\" : 3.14, \"sq2\" : 1.4 }\n",
    "return $x.sq2"
   ]
  },
  {
   "cell_type": "markdown",
   "id": "07ea7cba",
   "metadata": {},
   "source": [
    "If you apply the dot object-lookup syntax to a sequence of objects, you get a sequence of corresponding values. In fact, the same apply to array lookup and array unboxing, which work on sequences of arrays as well."
   ]
  },
  {
   "cell_type": "code",
   "execution_count": 7,
   "id": "db30e74d",
   "metadata": {},
   "outputs": [
    {
     "name": "stdout",
     "output_type": "stream",
     "text": [
      "Took: 0.016364574432373047 ms\n",
      "1\n",
      "2\n",
      "1\n"
     ]
    }
   ],
   "source": [
    "%%jsoniq\n",
    "let $x := (\n",
    "     { \"foo\" : 1 },\n",
    "     { \"foo\" : 2 },\n",
    "     { \"foo\" : 1 },\n",
    "     { \"bar\" : 1 }\n",
    "    )\n",
    "return $x.foo"
   ]
  },
  {
   "cell_type": "markdown",
   "id": "be5e7e4d",
   "metadata": {},
   "source": [
    "You can chain lookups, unboxing, and boxing arbitrarily."
   ]
  },
  {
   "cell_type": "code",
   "execution_count": 8,
   "id": "72fc2dbb",
   "metadata": {},
   "outputs": [
    {
     "name": "stdout",
     "output_type": "stream",
     "text": [
      "Took: 0.018744468688964844 ms\n",
      "[\"or\"]\n"
     ]
    }
   ],
   "source": [
    "%%jsoniq\n",
    "let $x := \n",
    "{\n",
    "      \"operations\" : [\n",
    "        { \"binary\" : [ \"and\", \"or\"] },\n",
    "        { \"unary\" : [\"not\"] }\n",
    "      ],\n",
    "      \"bits\" : [\n",
    "        0, 1\n",
    "      ]\n",
    "    }\n",
    "return [$x.operations[].binary[[2]]]"
   ]
  },
  {
   "cell_type": "markdown",
   "id": "1cd650dd",
   "metadata": {},
   "source": [
    "# Try your own queries!\n",
    "\n",
    "This notebook is interactive. You can edit all queries above and also execute your own! We will show you more features every week."
   ]
  },
  {
   "cell_type": "code",
   "execution_count": 9,
   "id": "fa53f4cf",
   "metadata": {},
   "outputs": [
    {
     "name": "stdout",
     "output_type": "stream",
     "text": [
      "Took: 0.014464616775512695 ms\n",
      "[2]\n"
     ]
    }
   ],
   "source": [
    "%%jsoniq\n",
    "[ 1 + 1 ]"
   ]
  },
  {
   "cell_type": "code",
   "execution_count": 10,
   "id": "c781a830",
   "metadata": {},
   "outputs": [
    {
     "name": "stdout",
     "output_type": "stream",
     "text": [
      "Took: 0.013660907745361328 ms\n",
      "{\"foo\": 1}\n"
     ]
    }
   ],
   "source": [
    "%%jsoniq\n",
    "{ \"foo\": 1 }"
   ]
  },
  {
   "cell_type": "code",
   "execution_count": 11,
   "id": "067e0db1",
   "metadata": {},
   "outputs": [
    {
     "name": "stdout",
     "output_type": "stream",
     "text": [
      "Took: 0.013419866561889648 ms\n",
      "1\n",
      "2\n",
      "3\n"
     ]
    }
   ],
   "source": [
    "%%jsoniq\n",
    "1, 2, 3"
   ]
  },
  {
   "cell_type": "code",
   "execution_count": 12,
   "id": "1ddcd5e7",
   "metadata": {},
   "outputs": [
    {
     "name": "stdout",
     "output_type": "stream",
     "text": [
      "Took: 0.013882875442504883 ms\n",
      "2\n"
     ]
    }
   ],
   "source": [
    "%%jsoniq\n",
    "1+1"
   ]
  },
  {
   "cell_type": "code",
   "execution_count": 13,
   "id": "e5b0ab65",
   "metadata": {},
   "outputs": [
    {
     "name": "stdout",
     "output_type": "stream",
     "text": [
      "Took: 0.013267755508422852 ms\n",
      "2\n"
     ]
    }
   ],
   "source": [
    "%%jsoniq\n",
    "1+1"
   ]
  },
  {
   "cell_type": "code",
   "execution_count": 14,
   "id": "987f06d0",
   "metadata": {},
   "outputs": [
    {
     "name": "stdout",
     "output_type": "stream",
     "text": [
      "Took: 0.014380216598510742 ms\n",
      "2\n"
     ]
    }
   ],
   "source": [
    "%%jsoniq\n",
    "1+1"
   ]
  },
  {
   "cell_type": "code",
   "execution_count": 15,
   "id": "7831547c",
   "metadata": {},
   "outputs": [
    {
     "name": "stdout",
     "output_type": "stream",
     "text": [
      "Took: 0.018035888671875 ms\n",
      "2\n"
     ]
    }
   ],
   "source": [
    "%%jsoniq\n",
    "1+1"
   ]
  },
  {
   "cell_type": "code",
   "execution_count": 16,
   "id": "ac36ecd5",
   "metadata": {},
   "outputs": [
    {
     "name": "stdout",
     "output_type": "stream",
     "text": [
      "Took: 0.018299579620361328 ms\n",
      "2\n"
     ]
    }
   ],
   "source": [
    "%%jsoniq\n",
    "1+1"
   ]
  },
  {
   "cell_type": "code",
   "execution_count": 17,
   "id": "bdb50a93",
   "metadata": {},
   "outputs": [
    {
     "name": "stdout",
     "output_type": "stream",
     "text": [
      "Took: 0.016077280044555664 ms\n",
      "2\n"
     ]
    }
   ],
   "source": [
    "%%jsoniq\n",
    "1+1"
   ]
  }
 ],
 "metadata": {
  "kernelspec": {
   "display_name": "Python 3 (ipykernel)",
   "language": "python",
   "name": "python3"
  },
  "language_info": {
   "codemirror_mode": {
    "name": "ipython",
    "version": 3
   },
   "file_extension": ".py",
   "mimetype": "text/x-python",
   "name": "python",
   "nbconvert_exporter": "python",
   "pygments_lexer": "ipython3",
   "version": "3.7.3"
  }
 },
 "nbformat": 4,
 "nbformat_minor": 5
}
